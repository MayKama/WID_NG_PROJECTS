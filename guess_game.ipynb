{
 "cells": [
  {
   "cell_type": "markdown",
   "metadata": {},
   "source": [
    "*Assignment* -  Write a Python program where the computer randomly generates a number between 0 and 10. The user needs to guess what the number is. If the user guesses wrong, tell them their guess is either too high or too low."
   ]
  },
  {
   "cell_type": "code",
   "execution_count": 9,
   "metadata": {},
   "outputs": [
    {
     "name": "stdout",
     "output_type": "stream",
     "text": [
      "enter your guess number between 1 and 10: 2\n",
      "Your guess is too low!\n",
      "enter your guess number between 1 and 10: 3\n",
      "Your guess is too low!\n",
      "enter your guess number between 1 and 10: 5\n",
      "Your guess is too low!\n",
      "enter your guess number between 1 and 10: 7\n",
      "Your guess is right\n"
     ]
    }
   ],
   "source": [
    "#importing the necessasry libraries\n",
    "import math\n",
    "import random\n",
    "\n",
    "\n",
    "num = random.randint(1, 10)\n",
    "\n",
    "# creat a variable that will store the users response\n",
    "guess_num = \" \"\n",
    "\n",
    "#initialize a counter\n",
    "#counter = 0\n",
    "\n",
    "#setting a limit to the number of times a user should guess\n",
    "\n",
    "while guess_num != num:\n",
    "    guess_num = input(\"enter your guess number between 1 and 10: \")\n",
    "    guess_num = int(guess_num)\n",
    "\n",
    "    if guess_num < num:\n",
    "        print(\"Your guess is too low!\")\n",
    "        #break\n",
    "    elif guess_num > num:\n",
    "    \n",
    "        print(\"Your guess is too high!\")\n",
    "    elif guess_num == num:\n",
    "        print(\"Your guess is right\")\n",
    "    else:\n",
    "    \n",
    "        print(\"Game over!\")\n"
   ]
  }
 ],
 "metadata": {
  "kernelspec": {
   "display_name": "Python 3",
   "language": "python",
   "name": "python3"
  },
  "language_info": {
   "codemirror_mode": {
    "name": "ipython",
    "version": 3
   },
   "file_extension": ".py",
   "mimetype": "text/x-python",
   "name": "python",
   "nbconvert_exporter": "python",
   "pygments_lexer": "ipython3",
   "version": "3.7.6"
  }
 },
 "nbformat": 4,
 "nbformat_minor": 4
}
